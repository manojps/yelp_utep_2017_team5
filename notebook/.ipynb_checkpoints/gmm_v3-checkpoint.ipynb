{
 "cells": [
  {
   "cell_type": "markdown",
   "metadata": {
    "collapsed": true
   },
   "source": [
    "This is an implementation of user location estimation algorithm through Gaussian Mixture Model (GMM) with assigned probablity for all components (location centers)."
   ]
  },
  {
   "cell_type": "code",
   "execution_count": 2,
   "metadata": {
    "collapsed": true
   },
   "outputs": [],
   "source": [
    "# Load necessary libraries\n",
    "import psycopg2  # For connecting to PostgreSQL database\n",
    "import pandas as pd # Data analysis toolkit with flexible data structures\n",
    "import numpy as np # Fundamental toolkit for scientific computation with N-dimensional array support\n",
    "from sklearn.mixture import GaussianMixture # Gaussian Mixutre Model in scikit-learn"
   ]
  },
  {
   "cell_type": "markdown",
   "metadata": {},
   "source": [
    "Fetch the list of users for which we want to estimate the location."
   ]
  },
  {
   "cell_type": "code",
   "execution_count": 3,
   "metadata": {
    "collapsed": true
   },
   "outputs": [],
   "source": [
    "conn = psycopg2.connect(\"dbname='yelp' host='192.168.1.16' user='manoj' password='^&YTGXXkhashfghs)('\")\n",
    "cur = conn.cursor()\n",
    "cur.execute(\"select user_id from _user where review_count>= 10;\")\n",
    "data1 = cur.fetchall()"
   ]
  },
  {
   "cell_type": "code",
   "execution_count": 12,
   "metadata": {
    "collapsed": false
   },
   "outputs": [],
   "source": [
    "#query1 = \"select b.business_id, b.latitude, b.longitude from business as b, (select business_id from review where user_id = '\"+data1[0][0]+\"') as r where b.business_id = r.business_id;\"\n",
    "#cur.execute(\"select b.business_id, r.user_id, b.latitude, b.longitude from review as r join business as b on b.business_id = r.business_id;\")\n",
    "cur.execute(\"select r.user_id, b.latitude, b.longitude from review as r join business as b on b.business_id = r.business_id;\")\n",
    "data2 = cur.fetchall()"
   ]
  },
  {
   "cell_type": "code",
   "execution_count": 5,
   "metadata": {
    "collapsed": false
   },
   "outputs": [
    {
     "data": {
      "text/html": [
       "<div>\n",
       "<table border=\"1\" class=\"dataframe\">\n",
       "  <thead>\n",
       "    <tr style=\"text-align: right;\">\n",
       "      <th></th>\n",
       "      <th>0</th>\n",
       "    </tr>\n",
       "  </thead>\n",
       "  <tbody>\n",
       "    <tr>\n",
       "      <th>0</th>\n",
       "      <td>EZmocAborM6z66rTzeZxzQ</td>\n",
       "    </tr>\n",
       "    <tr>\n",
       "      <th>1</th>\n",
       "      <td>myql3o3x22_ygECb8gVo7A</td>\n",
       "    </tr>\n",
       "    <tr>\n",
       "      <th>2</th>\n",
       "      <td>FIk4lQQu1eTe2EpzQ4xhBA</td>\n",
       "    </tr>\n",
       "    <tr>\n",
       "      <th>3</th>\n",
       "      <td>ojovtd9c8GIeDiB8e0mq2w</td>\n",
       "    </tr>\n",
       "    <tr>\n",
       "      <th>4</th>\n",
       "      <td>uVEoZmmL9yK0NMgadLL0CQ</td>\n",
       "    </tr>\n",
       "  </tbody>\n",
       "</table>\n",
       "</div>"
      ],
      "text/plain": [
       "                        0\n",
       "0  EZmocAborM6z66rTzeZxzQ\n",
       "1  myql3o3x22_ygECb8gVo7A\n",
       "2  FIk4lQQu1eTe2EpzQ4xhBA\n",
       "3  ojovtd9c8GIeDiB8e0mq2w\n",
       "4  uVEoZmmL9yK0NMgadLL0CQ"
      ]
     },
     "execution_count": 5,
     "metadata": {},
     "output_type": "execute_result"
    }
   ],
   "source": [
    "df1 = pd.DataFrame(data1)\n",
    "df1.head()"
   ]
  },
  {
   "cell_type": "code",
   "execution_count": 13,
   "metadata": {
    "collapsed": false
   },
   "outputs": [
    {
     "data": {
      "text/html": [
       "<div>\n",
       "<table border=\"1\" class=\"dataframe\">\n",
       "  <thead>\n",
       "    <tr style=\"text-align: right;\">\n",
       "      <th></th>\n",
       "      <th>0</th>\n",
       "      <th>1</th>\n",
       "      <th>2</th>\n",
       "    </tr>\n",
       "  </thead>\n",
       "  <tbody>\n",
       "    <tr>\n",
       "      <th>0</th>\n",
       "      <td>UYcmGbelzRa0Q6JqzLoguw</td>\n",
       "      <td>36.146267</td>\n",
       "      <td>-115.182987</td>\n",
       "    </tr>\n",
       "    <tr>\n",
       "      <th>1</th>\n",
       "      <td>On_1ZwRgD2Ry0eoKYC29iQ</td>\n",
       "      <td>36.146267</td>\n",
       "      <td>-115.182987</td>\n",
       "    </tr>\n",
       "    <tr>\n",
       "      <th>2</th>\n",
       "      <td>PKEzKWv_FktMm2mGPjwd0Q</td>\n",
       "      <td>36.146267</td>\n",
       "      <td>-115.182987</td>\n",
       "    </tr>\n",
       "    <tr>\n",
       "      <th>3</th>\n",
       "      <td>PomQayG1WhMxeSl1zohAUA</td>\n",
       "      <td>36.146267</td>\n",
       "      <td>-115.182987</td>\n",
       "    </tr>\n",
       "    <tr>\n",
       "      <th>4</th>\n",
       "      <td>PuzhvFmuIvrCgJ_GRqyJPg</td>\n",
       "      <td>55.953252</td>\n",
       "      <td>-3.188267</td>\n",
       "    </tr>\n",
       "  </tbody>\n",
       "</table>\n",
       "</div>"
      ],
      "text/plain": [
       "                        0          1           2\n",
       "0  UYcmGbelzRa0Q6JqzLoguw  36.146267 -115.182987\n",
       "1  On_1ZwRgD2Ry0eoKYC29iQ  36.146267 -115.182987\n",
       "2  PKEzKWv_FktMm2mGPjwd0Q  36.146267 -115.182987\n",
       "3  PomQayG1WhMxeSl1zohAUA  36.146267 -115.182987\n",
       "4  PuzhvFmuIvrCgJ_GRqyJPg  55.953252   -3.188267"
      ]
     },
     "execution_count": 13,
     "metadata": {},
     "output_type": "execute_result"
    }
   ],
   "source": [
    "df = pd.DataFrame(data2)\n",
    "df.head()"
   ]
  },
  {
   "cell_type": "code",
   "execution_count": 14,
   "metadata": {
    "collapsed": false
   },
   "outputs": [
    {
     "data": {
      "text/plain": [
       "4153150"
      ]
     },
     "execution_count": 14,
     "metadata": {},
     "output_type": "execute_result"
    }
   ],
   "source": [
    "len(df.index)"
   ]
  },
  {
   "cell_type": "code",
   "execution_count": 15,
   "metadata": {
    "collapsed": false
   },
   "outputs": [
    {
     "data": {
      "text/html": [
       "<div>\n",
       "<table border=\"1\" class=\"dataframe\">\n",
       "  <thead>\n",
       "    <tr style=\"text-align: right;\">\n",
       "      <th></th>\n",
       "      <th>user_id</th>\n",
       "      <th>latitude</th>\n",
       "      <th>longitude</th>\n",
       "    </tr>\n",
       "  </thead>\n",
       "  <tbody>\n",
       "    <tr>\n",
       "      <th>0</th>\n",
       "      <td>UYcmGbelzRa0Q6JqzLoguw</td>\n",
       "      <td>36.146267</td>\n",
       "      <td>-115.182987</td>\n",
       "    </tr>\n",
       "    <tr>\n",
       "      <th>1</th>\n",
       "      <td>On_1ZwRgD2Ry0eoKYC29iQ</td>\n",
       "      <td>36.146267</td>\n",
       "      <td>-115.182987</td>\n",
       "    </tr>\n",
       "    <tr>\n",
       "      <th>2</th>\n",
       "      <td>PKEzKWv_FktMm2mGPjwd0Q</td>\n",
       "      <td>36.146267</td>\n",
       "      <td>-115.182987</td>\n",
       "    </tr>\n",
       "    <tr>\n",
       "      <th>3</th>\n",
       "      <td>PomQayG1WhMxeSl1zohAUA</td>\n",
       "      <td>36.146267</td>\n",
       "      <td>-115.182987</td>\n",
       "    </tr>\n",
       "    <tr>\n",
       "      <th>4</th>\n",
       "      <td>PuzhvFmuIvrCgJ_GRqyJPg</td>\n",
       "      <td>55.953252</td>\n",
       "      <td>-3.188267</td>\n",
       "    </tr>\n",
       "  </tbody>\n",
       "</table>\n",
       "</div>"
      ],
      "text/plain": [
       "                  user_id   latitude   longitude\n",
       "0  UYcmGbelzRa0Q6JqzLoguw  36.146267 -115.182987\n",
       "1  On_1ZwRgD2Ry0eoKYC29iQ  36.146267 -115.182987\n",
       "2  PKEzKWv_FktMm2mGPjwd0Q  36.146267 -115.182987\n",
       "3  PomQayG1WhMxeSl1zohAUA  36.146267 -115.182987\n",
       "4  PuzhvFmuIvrCgJ_GRqyJPg  55.953252   -3.188267"
      ]
     },
     "execution_count": 15,
     "metadata": {},
     "output_type": "execute_result"
    }
   ],
   "source": [
    "df.rename(columns={df.columns[0]: 'user_id', df.columns[1]: 'latitude', df.columns[2]: 'longitude'}, inplace=True)\n",
    "df.head()"
   ]
  },
  {
   "cell_type": "code",
   "execution_count": 17,
   "metadata": {
    "collapsed": false
   },
   "outputs": [],
   "source": [
    "user = df.user_id.unique()"
   ]
  },
  {
   "cell_type": "code",
   "execution_count": 22,
   "metadata": {
    "collapsed": false
   },
   "outputs": [
    {
     "name": "stdout",
     "output_type": "stream",
     "text": [
      "UYcmGbelzRa0Q6JqzLoguw <class 'str'>\n"
     ]
    }
   ],
   "source": [
    "print(user[0], type(user[0]))"
   ]
  },
  {
   "cell_type": "code",
   "execution_count": 28,
   "metadata": {
    "collapsed": false
   },
   "outputs": [
    {
     "name": "stdout",
     "output_type": "stream",
     "text": [
      "Number of components for user_id \" iplE0RwOqAHBumz5HwXiTQ \" :  2\n"
     ]
    }
   ],
   "source": [
    "query2 = \"select count(distinct b.city) from business as b, (select business_id from review where user_id = '\"+data1[0][0]+\"') as r where b.business_id = r.business_id;\"\n",
    "cur.execute(query2)\n",
    "data3 = cur.fetchall()\n",
    "n = data3[0][0]\n",
    "print('Number of components for user_id \"', data1[0][0], '\" : ', n)"
   ]
  },
  {
   "cell_type": "code",
   "execution_count": null,
   "metadata": {
    "collapsed": true
   },
   "outputs": [],
   "source": [
    "for user in data1:\n",
    "    #print(user)\n",
    "    #print(type(user))\n",
    "    query1 = \"select b.business_id, b.latitude, b.longitude from business as b, (select business_id from review where user_id = '\"+user[0]+\"') as r where b.business_id = r.business_id;\"\n",
    "    #query = \"select count(b.business_id) from business as b, (select business_id from review where user_id = '\"+user[0]+\"') as r where b.business_id = r.business_id;\"\n",
    "    cur.execute(query1)\n",
    "    data2 = cur.fetchall()\n",
    "    df = pd.DataFrame(data2)\n",
    "    #print(df)\n",
    "    query2 = \"select count(distinct b.city) from business as b, (select business_id from review where user_id = '\"+user[0]+\"') as r where b.business_id = r.business_id;\"\n",
    "    cur.execute(query2)\n",
    "    data3 = cur.fetchall()\n",
    "    n = data3[0][0]\n",
    "    x = df\n",
    "    r = df.columns[1:]\n",
    "    x[r]\n",
    "    gmix = GaussianMixture(n_components=n, covariance_type='full')\n",
    "    gmix.fit(x[r].values)\n",
    "    label = gmix.predict(x[r].values)\n",
    "    a = pd.DataFrame(label)\n",
    "    b = a[0].groupby(a[0]).count()\n",
    "    c = pd.DataFrame(b)\n",
    "    max_index = c[0].argmax()\n",
    "    #print (user[0], '\\t', gmix.means_)\n",
    "    #print(type(gmix.means_))\n",
    "    #print(user[0], '\\t', n, '\\t', max_index, '\\t', gmix.means_[max_index][0], gmix.means_[max_index][1])\n",
    "    #query2= \"insert into _user_location_estimation (user_id, latitude, longitude) values (%s, %s, %s)\", (user[0], gmix.means_[0][0], gmix.means_[0][1])\n",
    "    cur.execute(\"insert into user_location_estimate2 (user_id, latitude, longitude) values (%s, %s, %s)\", (user[0], gmix.means_[max_index][0], gmix.means_[max_index][1]))\n",
    "    conn.commit()"
   ]
  },
  {
   "cell_type": "code",
   "execution_count": null,
   "metadata": {
    "collapsed": true
   },
   "outputs": [],
   "source": []
  }
 ],
 "metadata": {
  "kernelspec": {
   "display_name": "Python 3",
   "language": "python",
   "name": "python3"
  },
  "language_info": {
   "codemirror_mode": {
    "name": "ipython",
    "version": 3
   },
   "file_extension": ".py",
   "mimetype": "text/x-python",
   "name": "python",
   "nbconvert_exporter": "python",
   "pygments_lexer": "ipython3",
   "version": "3.6.0"
  }
 },
 "nbformat": 4,
 "nbformat_minor": 2
}
